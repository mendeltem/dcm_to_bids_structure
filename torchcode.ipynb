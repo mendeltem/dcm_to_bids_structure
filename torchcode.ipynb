{
 "cells": [
  {
   "cell_type": "code",
   "execution_count": 2,
   "metadata": {},
   "outputs": [],
   "source": [
    "bids_path  = \"/home/temuuleu/PROSCIS/CSB/S-PROSCIS_MRT/persDaten/tmp_dcm2bids/\""
   ]
  },
  {
   "cell_type": "code",
   "execution_count": 3,
   "metadata": {},
   "outputs": [],
   "source": [
    "local_image_path = \"sub-333/session-1/flair/image/subj_333_CSB-TRIO_20111024_081921_FLAIR.nii\""
   ]
  },
  {
   "cell_type": "code",
   "execution_count": 4,
   "metadata": {},
   "outputs": [
    {
     "name": "stdout",
     "output_type": "stream",
     "text": [
      "image path/home/temuuleu/PROSCIS/CSB/S-PROSCIS_MRT/persDaten/tmp_dcm2bids/sub-333/session-1/flair/image/subj_333_CSB-TRIO_20111024_081921_FLAIR.nii\n"
     ]
    }
   ],
   "source": [
    "img_path = bids_path+local_image_path\n",
    "print(\"image path\" + img_path)"
   ]
  },
  {
   "cell_type": "code",
   "execution_count": 5,
   "metadata": {},
   "outputs": [],
   "source": [
    "from nipype.interfaces import fsl"
   ]
  },
  {
   "cell_type": "code",
   "execution_count": 6,
   "metadata": {},
   "outputs": [],
   "source": [
    "fnt = fsl.FNIRT()\n",
    "fnt.inputs.inmask_file = img_path"
   ]
  },
  {
   "cell_type": "code",
   "execution_count": 46,
   "metadata": {},
   "outputs": [],
   "source": []
  },
  {
   "cell_type": "code",
   "execution_count": 12,
   "metadata": {},
   "outputs": [
    {
     "data": {
      "text/plain": [
       "torch.nn.modules.module.Module"
      ]
     },
     "execution_count": 12,
     "metadata": {},
     "output_type": "execute_result"
    }
   ],
   "source": [
    "nn.Module"
   ]
  },
  {
   "cell_type": "code",
   "execution_count": 88,
   "metadata": {},
   "outputs": [
    {
     "ename": "SyntaxError",
     "evalue": "invalid syntax (<ipython-input-88-79f290260398>, line 4)",
     "output_type": "error",
     "traceback": [
      "\u001b[0;36m  File \u001b[0;32m\"<ipython-input-88-79f290260398>\"\u001b[0;36m, line \u001b[0;32m4\u001b[0m\n\u001b[0;31m    import torch.autograd import Variable\u001b[0m\n\u001b[0m                               ^\u001b[0m\n\u001b[0;31mSyntaxError\u001b[0m\u001b[0;31m:\u001b[0m invalid syntax\n"
     ]
    }
   ],
   "source": [
    "import torch\n",
    "import torch.nn as nn\n",
    "import torch.nn.functional as F\n",
    "import torch.autograd import Variable\n",
    "\n",
    "torch.cuda.is_available()\n",
    "\n",
    "class Classification(nn.Module):\n",
    "    def __init__(self):\n",
    "        super(Classification,self).__init__()\n",
    "        \n",
    "        self.lin1 = nn.Linear(10,10)\n",
    "        self.lin2 = nn.Linear(10,10)\n",
    "    \n",
    "    def forward(self, x):\n",
    "        x = F.relu(self.lin1(x))\n",
    "        x = self.lin2(x)\n",
    "        \n",
    "        return x\n",
    "    \n",
    "    def num_flat_features(self, x):\n",
    "        size = x.size()[1:]\n",
    "        \n",
    "        num = 1\n",
    "        for i in x.size()[1:]:\n",
    "            print(i)\n",
    "\n",
    "            num *= i\n",
    "        return num   \n",
    "        \n",
    " \n",
    "netz = Classification()\n",
    "\n",
    "\n",
    "x = [1,0,0,0,0,0,0,1,0,0,1]\n",
    "\n",
    "input =Variable(torch.Tensor([x for _ in range(len(x))]))\n",
    "\n",
    "for i in range(100):\n",
    "    out = netz(input)\n",
    "\n",
    "\n",
    "\n"
   ]
  },
  {
   "cell_type": "code",
   "execution_count": 80,
   "metadata": {},
   "outputs": [
    {
     "name": "stdout",
     "output_type": "stream",
     "text": [
      "2\n",
      "2\n"
     ]
    },
    {
     "data": {
      "text/plain": [
       "4"
      ]
     },
     "execution_count": 80,
     "metadata": {},
     "output_type": "execute_result"
    }
   ],
   "source": [
    " "
   ]
  },
  {
   "cell_type": "code",
   "execution_count": 40,
   "metadata": {},
   "outputs": [
    {
     "data": {
      "text/plain": [
       "Conv3d(1, 8, kernel_size=(3, 3, 3), stride=(1, 1, 1))"
      ]
     },
     "execution_count": 40,
     "metadata": {},
     "output_type": "execute_result"
    }
   ],
   "source": [
    "nn.Conv3d(1, 8, 3)"
   ]
  },
  {
   "cell_type": "code",
   "execution_count": 39,
   "metadata": {},
   "outputs": [
    {
     "data": {
      "text/plain": [
       "ClassificationModel3D(\n",
       "  (Conv_1): Conv3d(1, 8, kernel_size=(3, 3, 3), stride=(1, 1, 1))\n",
       "  (Conv_1_bn): BatchNorm3d(8, eps=1e-05, momentum=0.1, affine=True, track_running_stats=True)\n",
       "  (Conv_1_mp): MaxPool3d(kernel_size=2, stride=2, padding=0, dilation=1, ceil_mode=False)\n",
       "  (Conv_2): Conv3d(8, 16, kernel_size=(3, 3, 3), stride=(1, 1, 1))\n",
       "  (Conv_2_bn): BatchNorm3d(16, eps=1e-05, momentum=0.1, affine=True, track_running_stats=True)\n",
       "  (Conv_2_mp): MaxPool3d(kernel_size=3, stride=3, padding=0, dilation=1, ceil_mode=False)\n",
       "  (Conv_3): Conv3d(16, 32, kernel_size=(3, 3, 3), stride=(1, 1, 1))\n",
       "  (Conv_3_bn): BatchNorm3d(32, eps=1e-05, momentum=0.1, affine=True, track_running_stats=True)\n",
       "  (Conv_3_mp): MaxPool3d(kernel_size=2, stride=2, padding=0, dilation=1, ceil_mode=False)\n",
       "  (Conv_4): Conv3d(32, 64, kernel_size=(3, 3, 3), stride=(1, 1, 1))\n",
       "  (Conv_4_bn): BatchNorm3d(64, eps=1e-05, momentum=0.1, affine=True, track_running_stats=True)\n",
       "  (Conv_4_mp): MaxPool3d(kernel_size=3, stride=3, padding=0, dilation=1, ceil_mode=False)\n",
       "  (dense_1): Linear(in_features=5120, out_features=128, bias=True)\n",
       "  (dense_2): Linear(in_features=128, out_features=2, bias=True)\n",
       "  (relu): ReLU()\n",
       "  (dropout): Dropout(p=0.4, inplace=False)\n",
       "  (dropout2): Dropout(p=0.4, inplace=False)\n",
       ")"
      ]
     },
     "execution_count": 39,
     "metadata": {},
     "output_type": "execute_result"
    }
   ],
   "source": [
    "class ClassificationModel3D(nn.Module):\n",
    "    \"\"\"The model we use in the paper.\"\"\"\n",
    "\n",
    "    def __init__(self, dropout=0.4, dropout2=0.4):\n",
    "        nn.Module.__init__(self)\n",
    "        self.Conv_1 = nn.Conv3d(1, 8, 3)\n",
    "        self.Conv_1_bn = nn.BatchNorm3d(8)\n",
    "        self.Conv_1_mp = nn.MaxPool3d(2)\n",
    "        self.Conv_2 = nn.Conv3d(8, 16, 3)\n",
    "        self.Conv_2_bn = nn.BatchNorm3d(16)\n",
    "        self.Conv_2_mp = nn.MaxPool3d(3)\n",
    "        self.Conv_3 = nn.Conv3d(16, 32, 3)\n",
    "        self.Conv_3_bn = nn.BatchNorm3d(32)\n",
    "        self.Conv_3_mp = nn.MaxPool3d(2)\n",
    "        self.Conv_4 = nn.Conv3d(32, 64, 3)\n",
    "        self.Conv_4_bn = nn.BatchNorm3d(64)\n",
    "        self.Conv_4_mp = nn.MaxPool3d(3)\n",
    "        self.dense_1 = nn.Linear(5120, 128)\n",
    "        self.dense_2 = nn.Linear(128, 2)\n",
    "        self.relu = nn.ReLU()\n",
    "        self.dropout = nn.Dropout(dropout)\n",
    "        self.dropout2 = nn.Dropout(dropout2)\n",
    "\n",
    "    def forward(self, x):\n",
    "        x = self.relu(self.Conv_1_bn(self.Conv_1(x)))\n",
    "        x = self.Conv_1_mp(x)\n",
    "        x = self.relu(self.Conv_2_bn(self.Conv_2(x)))\n",
    "        x = self.Conv_2_mp(x)\n",
    "        x = self.relu(self.Conv_3_bn(self.Conv_3(x)))\n",
    "        x = self.Conv_3_mp(x)\n",
    "        x = self.relu(self.Conv_4_bn(self.Conv_4(x)))\n",
    "        x = self.Conv_4_mp(x)\n",
    "        x = x.view(x.size(0), -1)\n",
    "        x = self.dropout(x)\n",
    "        x = self.relu(self.dense_1(x))\n",
    "        x = self.dropout2(x)\n",
    "        x = self.dense_2(x)\n",
    "        return x\n",
    "\n",
    "netz = ClassificationModel3D()\n",
    "netz"
   ]
  },
  {
   "cell_type": "code",
   "execution_count": 23,
   "metadata": {},
   "outputs": [],
   "source": []
  },
  {
   "cell_type": "code",
   "execution_count": null,
   "metadata": {},
   "outputs": [],
   "source": []
  }
 ],
 "metadata": {
  "kernelspec": {
   "display_name": "Python 3",
   "language": "python",
   "name": "python3"
  },
  "language_info": {
   "codemirror_mode": {
    "name": "ipython",
    "version": 3
   },
   "file_extension": ".py",
   "mimetype": "text/x-python",
   "name": "python",
   "nbconvert_exporter": "python",
   "pygments_lexer": "ipython3",
   "version": "3.5.6"
  }
 },
 "nbformat": 4,
 "nbformat_minor": 4
}
